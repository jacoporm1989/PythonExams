{
 "cells": [
  {
   "cell_type": "code",
   "execution_count": 9,
   "id": "8483f3a1",
   "metadata": {},
   "outputs": [
    {
     "name": "stdout",
     "output_type": "stream",
     "text": [
      "Inserisci qui il tuo nome: Amilcare\n"
     ]
    }
   ],
   "source": [
    "nome = input(\"Inserisci qui il tuo nome: \")"
   ]
  },
  {
   "cell_type": "code",
   "execution_count": 10,
   "id": "82ed794e",
   "metadata": {},
   "outputs": [
    {
     "data": {
      "text/plain": [
       "'Amilcare'"
      ]
     },
     "execution_count": 10,
     "metadata": {},
     "output_type": "execute_result"
    }
   ],
   "source": [
    "nome"
   ]
  },
  {
   "cell_type": "code",
   "execution_count": 11,
   "id": "24a30e04",
   "metadata": {},
   "outputs": [
    {
     "name": "stdout",
     "output_type": "stream",
     "text": [
      "Inserisci qui la tua età: 30\n"
     ]
    }
   ],
   "source": [
    "eta = input(\"Inserisci qui la tua età: \")"
   ]
  },
  {
   "cell_type": "code",
   "execution_count": 12,
   "id": "4ec61c80",
   "metadata": {},
   "outputs": [
    {
     "data": {
      "text/plain": [
       "'30'"
      ]
     },
     "execution_count": 12,
     "metadata": {},
     "output_type": "execute_result"
    }
   ],
   "source": [
    "eta"
   ]
  },
  {
   "cell_type": "code",
   "execution_count": null,
   "id": "4da41294",
   "metadata": {},
   "outputs": [],
   "source": []
  },
  {
   "cell_type": "code",
   "execution_count": null,
   "id": "32edff39",
   "metadata": {},
   "outputs": [],
   "source": [
    "numero1 = input(\"numero1: \")"
   ]
  }
 ],
 "metadata": {
  "kernelspec": {
   "display_name": "Python 3 (ipykernel)",
   "language": "python",
   "name": "python3"
  },
  "language_info": {
   "codemirror_mode": {
    "name": "ipython",
    "version": 3
   },
   "file_extension": ".py",
   "mimetype": "text/x-python",
   "name": "python",
   "nbconvert_exporter": "python",
   "pygments_lexer": "ipython3",
   "version": "3.9.12"
  }
 },
 "nbformat": 4,
 "nbformat_minor": 5
}
