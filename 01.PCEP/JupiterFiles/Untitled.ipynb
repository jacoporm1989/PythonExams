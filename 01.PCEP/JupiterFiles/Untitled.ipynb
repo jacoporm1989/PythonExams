{
 "cells": [
  {
   "cell_type": "code",
   "execution_count": 1,
   "id": "fde9d8f3",
   "metadata": {},
   "outputs": [
    {
     "name": "stdout",
     "output_type": "stream",
     "text": [
      "num1: 10\n"
     ]
    }
   ],
   "source": [
    "num1 = input(\"num1: \")"
   ]
  },
  {
   "cell_type": "code",
   "execution_count": 2,
   "id": "f1e333dc",
   "metadata": {},
   "outputs": [],
   "source": [
    "num1 = int(num1)"
   ]
  },
  {
   "cell_type": "code",
   "execution_count": 3,
   "id": "8398bac7",
   "metadata": {},
   "outputs": [
    {
     "data": {
      "text/plain": [
       "10"
      ]
     },
     "execution_count": 3,
     "metadata": {},
     "output_type": "execute_result"
    }
   ],
   "source": [
    "num1"
   ]
  },
  {
   "cell_type": "code",
   "execution_count": 4,
   "id": "24eac208",
   "metadata": {},
   "outputs": [
    {
     "name": "stdout",
     "output_type": "stream",
     "text": [
      "num2: 20\n"
     ]
    }
   ],
   "source": [
    "num2 = input(\"num2: \")"
   ]
  },
  {
   "cell_type": "code",
   "execution_count": 5,
   "id": "adca06a6",
   "metadata": {},
   "outputs": [],
   "source": [
    "num2 = int(num2)"
   ]
  },
  {
   "cell_type": "code",
   "execution_count": 6,
   "id": "e15667e1",
   "metadata": {},
   "outputs": [
    {
     "data": {
      "text/plain": [
       "20"
      ]
     },
     "execution_count": 6,
     "metadata": {},
     "output_type": "execute_result"
    }
   ],
   "source": [
    "num2"
   ]
  },
  {
   "cell_type": "code",
   "execution_count": 7,
   "id": "8ce64243",
   "metadata": {},
   "outputs": [
    {
     "data": {
      "text/plain": [
       "30"
      ]
     },
     "execution_count": 7,
     "metadata": {},
     "output_type": "execute_result"
    }
   ],
   "source": [
    "num1 + num2"
   ]
  },
  {
   "cell_type": "code",
   "execution_count": null,
   "id": "8b5e4199",
   "metadata": {},
   "outputs": [],
   "source": []
  },
  {
   "cell_type": "code",
   "execution_count": null,
   "id": "72dda00e",
   "metadata": {},
   "outputs": [],
   "source": []
  },
  {
   "cell_type": "code",
   "execution_count": null,
   "id": "a5eac194",
   "metadata": {},
   "outputs": [],
   "source": []
  }
 ],
 "metadata": {
  "kernelspec": {
   "display_name": "Python 3 (ipykernel)",
   "language": "python",
   "name": "python3"
  },
  "language_info": {
   "codemirror_mode": {
    "name": "ipython",
    "version": 3
   },
   "file_extension": ".py",
   "mimetype": "text/x-python",
   "name": "python",
   "nbconvert_exporter": "python",
   "pygments_lexer": "ipython3",
   "version": "3.9.12"
  }
 },
 "nbformat": 4,
 "nbformat_minor": 5
}
